{
 "cells": [
  {
   "cell_type": "markdown",
   "metadata": {},
   "source": [
    "We first define the Uni-Directional CFRP material properties"
   ]
  },
  {
   "cell_type": "code",
   "execution_count": 26,
   "metadata": {},
   "outputs": [
    {
     "name": "stdout",
     "output_type": "stream",
     "text": [
      "\n",
      "  Elastic Properties:\n",
      "  -----------------------------------------------------------\n",
      "  E1     :     1.303e+11 , E2     :     7.220e+09 \n",
      "  nu12   :          0.34 , G12    :     4.230e+09 \n",
      "\n",
      "  Thermal expansion coefficients:\n",
      "  -----------------------------------------------------------\n",
      "  alpha1 :     0.000e+00 , alpha2 :     0.000e+00 \n",
      "\n"
     ]
    }
   ],
   "source": [
    "from composite import TransverseIsotropic\n",
    "XT = 1433.6e6\n",
    "XC = 1003.3e6\n",
    "YT = 32.5e6\n",
    "YC = 108.3e6\n",
    "S = 76.1e6\n",
    "\n",
    "E1 = 130.33e9\n",
    "E2 = 7.220e09 \n",
    "nu12 = 0.337\n",
    "G12 = 4.230e09\n",
    "\n",
    "UD = TransverseIsotropic([E1,E2],nu12,G12)\n",
    "\n",
    "print(UD)"
   ]
  },
  {
   "cell_type": "markdown",
   "metadata": {},
   "source": [
    "From the assigned fiber orientations, we define the stackup"
   ]
  },
  {
   "cell_type": "code",
   "execution_count": 28,
   "metadata": {},
   "outputs": [],
   "source": [
    "from composite import Laminate\n",
    "\n",
    "lam = Laminate()\n",
    "\n",
    "lam.addMaterial( 'UD' , UD )\n",
    "\n",
    "orientations = [ 35 , -35 , 35 , -35 , 35 , -35 , 35 , -35 , 35 , -35 , 35 , -35 , 35 , -35 , 35 , -35 , 35 , -35 , 35 , -35 , 35 , -35 , 35 , -35 , -35 , 35 , -35 , 35 , -35 , 35 , -35 , 35 , -35 , 35 , -35 , 35 , -35 , 35 , -35 , 35 , -35 , 35 , -35 , 35 , -35 , 35 , -35 , 35 ]\n"
   ]
  },
  {
   "cell_type": "markdown",
   "metadata": {},
   "source": [
    "Then we calculate the forces (N) and moments (M) from the internal pressure"
   ]
  },
  {
   "cell_type": "code",
   "execution_count": 27,
   "metadata": {},
   "outputs": [],
   "source": [
    "P = 50e5\n",
    "R = 0.28/2\n",
    "\n",
    "Nxx = P * R/2\n",
    "Nyy = P * R\n",
    "Nxy = 0\n",
    "Mxx = 0\n",
    "Myy = 0\n",
    "Mxy = 0"
   ]
  },
  {
   "cell_type": "code",
   "execution_count": 29,
   "metadata": {},
   "outputs": [
    {
     "name": "stdout",
     "output_type": "stream",
     "text": [
      "\n",
      "A matrix:\n",
      " [[ 9.e+08  4.e+08 -3.e-08]\n",
      " [ 4.e+08  3.e+08 -2.e-08]\n",
      " [-3.e-08 -2.e-08  4.e+08]]\n",
      "\n",
      "B matrix:\n",
      " [[-1.e-10 -7.e-11  2.e-10]\n",
      " [-7.e-11 -7.e-11  9.e-11]\n",
      " [ 2.e-10  9.e-11 -2.e-10]]\n",
      "\n",
      "D matrix:\n",
      " [[16088.  7014.   598.]\n",
      " [ 7014.  5545.   307.]\n",
      " [  598.   307.  7458.]]\n"
     ]
    }
   ],
   "source": [
    "t = 0.0003 #layer thickness\n",
    "\n",
    "for angle in orientations:\n",
    "  lam.addLayer( 'UD' , angle , t )\n",
    "    \n",
    "print (\"\\nA matrix:\\n\",lam.getA())\n",
    "print (\"\\nB matrix:\\n\",lam.getB())\n",
    "print (\"\\nD matrix:\\n\",lam.getD())\n"
   ]
  },
  {
   "cell_type": "code",
   "execution_count": 30,
   "metadata": {},
   "outputs": [
    {
     "name": "stdout",
     "output_type": "stream",
     "text": [
      "The midplane strains are :  [-1.e-03  4.e-03  5.e-20]\n",
      "The curvatures are       :  [-1.e-17  5.e-17 -2.e-17]\n"
     ]
    }
   ],
   "source": [
    "# Calculate the stresses in each layer (expressed in the material coordinate system) of the laminate.\n",
    "\n",
    "# First, calculate the inverse matrices\n",
    "A1,B1,C1,D1 = lam.getInverseMatrices()\n",
    "\n",
    "import numpy as np\n",
    "\n",
    "N = np.array([Nxx, Nyy, Nxy])\n",
    "M = np.array([Mxx, Myy, Mxy])\n",
    "\n",
    "eps0  = np.dot( A1 , N ) + np.dot( B1 , M )\n",
    "kappa = np.dot( C1 , N ) + np.dot( D1 , M )\n",
    "\n",
    "print(\"The midplane strains are : \",eps0)\n",
    "print(\"The curvatures are       : \",kappa)"
   ]
  },
  {
   "cell_type": "code",
   "execution_count": 31,
   "metadata": {},
   "outputs": [
    {
     "name": "stdout",
     "output_type": "stream",
     "text": [
      "The stresses :  [array([56478979., 16437688., 20219635.]), array([ 56478979.,  16437688., -20219635.]), array([56478979., 16437688., 20219635.]), array([ 56478979.,  16437688., -20219635.]), array([56478979., 16437688., 20219635.]), array([ 56478979.,  16437688., -20219635.]), array([56478979., 16437688., 20219635.]), array([ 56478979.,  16437688., -20219635.]), array([56478979., 16437688., 20219635.]), array([ 56478979.,  16437688., -20219635.]), array([56478979., 16437688., 20219635.]), array([ 56478979.,  16437688., -20219635.]), array([56478979., 16437688., 20219635.]), array([ 56478979.,  16437688., -20219635.]), array([56478979., 16437688., 20219635.]), array([ 56478979.,  16437688., -20219635.]), array([56478979., 16437688., 20219635.]), array([ 56478979.,  16437688., -20219635.]), array([56478979., 16437688., 20219635.]), array([ 56478979.,  16437688., -20219635.]), array([56478979., 16437688., 20219635.]), array([ 56478979.,  16437688., -20219635.]), array([56478979., 16437688., 20219635.]), array([ 56478979.,  16437688., -20219635.]), array([ 56478979.,  16437688., -20219635.]), array([56478979., 16437688., 20219635.]), array([ 56478979.,  16437688., -20219635.]), array([56478979., 16437688., 20219635.]), array([ 56478979.,  16437688., -20219635.]), array([56478979., 16437688., 20219635.]), array([ 56478979.,  16437688., -20219635.]), array([56478979., 16437688., 20219635.]), array([ 56478979.,  16437688., -20219635.]), array([56478979., 16437688., 20219635.]), array([ 56478979.,  16437688., -20219635.]), array([56478979., 16437688., 20219635.]), array([ 56478979.,  16437688., -20219635.]), array([56478979., 16437688., 20219635.]), array([ 56478979.,  16437688., -20219635.]), array([56478979., 16437688., 20219635.]), array([ 56478979.,  16437688., -20219635.]), array([56478979., 16437688., 20219635.]), array([ 56478979.,  16437688., -20219635.]), array([56478979., 16437688., 20219635.]), array([ 56478979.,  16437688., -20219635.]), array([56478979., 16437688., 20219635.]), array([ 56478979.,  16437688., -20219635.]), array([56478979., 16437688., 20219635.])]\n"
     ]
    }
   ],
   "source": [
    "from composite import stressTransformation\n",
    "\n",
    "sigmaplt = []\n",
    "\n",
    "for iLay,angle in enumerate(orientations):\n",
    "  epsilon = eps0 + lam.getZcoord( iLay ) * kappa\n",
    "  sigma   = np.dot( lam.getQbar(iLay) , epsilon )\n",
    "  sigmaplt.append(stressTransformation( sigma , angle ))\n",
    "  \n",
    "print(\"The stresses : \",sigmaplt)"
   ]
  },
  {
   "cell_type": "markdown",
   "metadata": {},
   "source": [
    "The results are stored in the list sigmaplt and can be plotted as a bar chart by means of the following matplotlib code."
   ]
  },
  {
   "cell_type": "code",
   "execution_count": 32,
   "metadata": {},
   "outputs": [
    {
     "data": {
      "image/png": "[encoded data removed]",
      "text/plain": [
       "<Figure size 1600x400 with 1 Axes>"
      ]
     },
     "metadata": {},
     "output_type": "display_data"
    }
   ],
   "source": [
    "import matplotlib.pyplot as plt\n",
    "\n",
    "X = np.arange(48)\n",
    "# Create a figure with a custom size\n",
    "fig = plt.figure(figsize=(16, 4))\n",
    "\n",
    "plt.bar(X - 0.26, [s[0] for s in sigmaplt] , color = 'b', width = 0.3, label = \"$\\\\sigma_{11}$\")\n",
    "plt.bar(X       , [s[1] for s in sigmaplt] , color = 'g', width = 0.3, label = \"$\\\\sigma_{22}$\")\n",
    "plt.bar(X + 0.26, [s[2] for s in sigmaplt] , color = 'r', width = 0.3, label = \"$\\\\tau_{12}$\")\n",
    "\n",
    "plt.xticks(X, orientations)\n",
    "\n",
    "plt.xlabel(\"Layer orientations\")\n",
    "plt.ylabel(\"Stress [Pa]\")\n",
    "plt.title(\"Stress in each layer (48 coordinate system)\")\n",
    "\n",
    "plt.legend()\n",
    "plt.show()"
   ]
  },
  {
   "cell_type": "markdown",
   "metadata": {},
   "source": [
    "For some layers cracked, we redefine the stackup to add in some broken layers by reducing the mechanical properties. "
   ]
  },
  {
   "cell_type": "code",
   "execution_count": 45,
   "metadata": {},
   "outputs": [],
   "source": [
    "lam.removeAllLayers()\n",
    "\n",
    "# Strength reduced percentage\n",
    "r1 = 1\n",
    "r2 = 0.25\n",
    "r12 = 0.25\n",
    "\n",
    "orientations = [ 35 , -35 , 35 , -35 , 35 , -35 , 35 , -35 , 35 , -35 , 35 , -35 , 35 , -35 , 35 , -35 , 35 , -35 , 35 , -35 , 35 , -35 , 35 , -35 , -35 , 35 , -35 , 35 , -35 , 35 , -35 , 35 , -35 , 35 , -35 , 35 , -35 , 35 , -35 , 35 ]\n",
    "orientationsm = [ -35 , 35 , -35 , 35 ]\n",
    "orientationst = [ -35 , 35 , -35 , 35 ]"
   ]
  },
  {
   "cell_type": "code",
   "execution_count": 46,
   "metadata": {},
   "outputs": [
    {
     "name": "stdout",
     "output_type": "stream",
     "text": [
      "\n",
      "A matrix:\n",
      " [[ 6.e+08  2.e+08 -3.e-08]\n",
      " [ 2.e+08  2.e+08 -2.e-08]\n",
      " [-3.e-08 -2.e-08  3.e+08]]\n",
      "\n",
      "B matrix:\n",
      " [[-240498.  -97980.   -2921.]\n",
      " [ -97980.  -96113.   -1554.]\n",
      " [  -2921.   -1554. -108091.]]\n",
      "\n",
      "D matrix:\n",
      " [[3716. 1645.  151.]\n",
      " [1645. 1233.   77.]\n",
      " [ 151.   77. 1735.]]\n"
     ]
    }
   ],
   "source": [
    "lam.addMaterial( 'UD' , UD )\n",
    "for angle in orientations:\n",
    "  lam.addLayer( 'UD' , angle , 0.2e-3 )\n",
    "\n",
    "UDMatrixFailure = TransverseIsotropic( [130.33e9*r1,7.22e9*r2],0.337*r1,4.23e9*r12)\n",
    "lam.addMaterial( 'UDm' , UDMatrixFailure )\n",
    "for angle in orientationsm:\n",
    "    lam.addLayer('UDm', angle , 0.2e-3)\n",
    "\n",
    "UDTotalFailure = TransverseIsotropic( [1303300,72200],0.00000337,423)\n",
    "lam.addMaterial( 'UDt' , UDTotalFailure )\n",
    "for angle in orientationst:\n",
    "    lam.addLayer('UDt', angle , 0.2e-3)\n",
    "    \n",
    "print (\"\\nA matrix:\\n\",lam.getA())\n",
    "print (\"\\nB matrix:\\n\",lam.getB())\n",
    "print (\"\\nD matrix:\\n\",lam.getD())"
   ]
  },
  {
   "cell_type": "code",
   "execution_count": 47,
   "metadata": {},
   "outputs": [
    {
     "name": "stdout",
     "output_type": "stream",
     "text": [
      "The midplane strains are :  [-3.e-04  9.e-04 -1.e-07]\n",
      "The curvatures are       :  [-0.  0. -0.]\n"
     ]
    }
   ],
   "source": [
    "A1,B1,C1,D1 = lam.getInverseMatrices()\n",
    "\n",
    "import numpy as np\n",
    "\n",
    "N = np.array([43750, 87500 , 0 ])\n",
    "M = np.array([0 , 0. , 0. ])\n",
    "\n",
    "eps0  = np.dot( A1 , N ) + np.dot( B1 , M )\n",
    "kappa = np.dot( C1 , N ) + np.dot( D1 , M )\n",
    "\n",
    "print(\"The midplane strains are : \",eps0)\n",
    "print(\"The curvatures are       : \",kappa)"
   ]
  },
  {
   "cell_type": "code",
   "execution_count": 48,
   "metadata": {},
   "outputs": [],
   "source": [
    "from composite import stressTransformation\n",
    "\n",
    "sigmaplt = []\n",
    "\n",
    "for iLay,angle in enumerate(orientations+orientationsm+orientationst):\n",
    "  epsilon = eps0 + lam.getZcoord( iLay ) * kappa\n",
    "  sigma   = np.dot( lam.getQbar(iLay) , epsilon )\n",
    "  sigmaplt.append(stressTransformation( sigma , angle ))"
   ]
  },
  {
   "cell_type": "code",
   "execution_count": 49,
   "metadata": {},
   "outputs": [
    {
     "data": {
      "image/png": "[encoded data removed]",
      "text/plain": [
       "<Figure size 1800x400 with 1 Axes>"
      ]
     },
     "metadata": {},
     "output_type": "display_data"
    }
   ],
   "source": [
    "import matplotlib.pyplot as plt\n",
    "\n",
    "X = np.arange(48)\n",
    "fig = plt.figure(figsize=(18, 4))\n",
    "\n",
    "plt.bar(X - 0.26, [s[0] for s in sigmaplt] , color = 'b', width = 0.3, label = \"$\\\\sigma_{11}$\")\n",
    "plt.bar(X       , [s[1] for s in sigmaplt] , color = 'g', width = 0.3, label = \"$\\\\sigma_{22}$\")\n",
    "plt.bar(X + 0.26, [s[2] for s in sigmaplt] , color = 'r', width = 0.3, label = \"$\\\\tau_{12}$\")\n",
    "np.set_printoptions(precision=0)\n",
    "plt.xticks(X, orientations+orientationsm+orientationst)\n",
    "\n",
    "plt.xlabel(\"Layer orientations\")\n",
    "plt.ylabel(\"Stress [MPa]\")\n",
    "plt.title(\"Stress in each layer (48 coordinate system)\")\n",
    "\n",
    "plt.legend()\n",
    "plt.show()"
   ]
  }
 ],
 "metadata": {
  "kernelspec": {
   "display_name": "Python 3",
   "language": "python",
   "name": "python3"
  },
  "language_info": {
   "codemirror_mode": {
    "name": "ipython",
    "version": 3
   },
   "file_extension": ".py",
   "mimetype": "text/x-python",
   "name": "python",
   "nbconvert_exporter": "python",
   "pygments_lexer": "ipython3",
   "version": "3.12.2"
  }
 },
 "nbformat": 4,
 "nbformat_minor": 2
}
